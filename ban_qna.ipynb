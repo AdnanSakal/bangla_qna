{
  "cells": [
    {
      "cell_type": "markdown",
      "source": [
        "**Defining our chat template**"
      ],
      "metadata": {
        "id": "X1cGmQlS7h0c"
      },
      "id": "X1cGmQlS7h0c"
    },
    {
      "cell_type": "code",
      "execution_count": null,
      "id": "16c6aa6d-ad21-4d75-99ed-d484e9acf6ea",
      "metadata": {
        "id": "16c6aa6d-ad21-4d75-99ed-d484e9acf6ea"
      },
      "outputs": [],
      "source": [
        "from langchain_core.prompts import ChatPromptTemplate\n",
        "chat_template = ChatPromptTemplate.from_messages(\n",
        "    [(\"system\",\"you give answer in one line also in Bangla\")\n",
        "     ,(\"human\",\"{user_input}\")])"
      ]
    },
    {
      "cell_type": "markdown",
      "source": [
        "**Defining our model**"
      ],
      "metadata": {
        "id": "Gu23IW4t7p5H"
      },
      "id": "Gu23IW4t7p5H"
    },
    {
      "cell_type": "code",
      "execution_count": null,
      "id": "fbd92936-6006-473c-b713-fa6890a66ea3",
      "metadata": {
        "id": "fbd92936-6006-473c-b713-fa6890a66ea3"
      },
      "outputs": [],
      "source": [
        "from langchain_ollama import ChatOllama\n",
        "llm = ChatOllama(\n",
        "    model = \"llama3.2\"\n",
        ")"
      ]
    },
    {
      "cell_type": "markdown",
      "source": [
        "**Making our chain or steps the user input will go through**"
      ],
      "metadata": {
        "id": "RfgeSjwb7svH"
      },
      "id": "RfgeSjwb7svH"
    },
    {
      "cell_type": "code",
      "execution_count": null,
      "id": "93557991-f459-43ff-923d-3e9d33a375c6",
      "metadata": {
        "id": "93557991-f459-43ff-923d-3e9d33a375c6"
      },
      "outputs": [],
      "source": [
        "from langchain_core.output_parsers import StrOutputParser\n",
        "chain = chat_template|llm|StrOutputParser()"
      ]
    },
    {
      "cell_type": "markdown",
      "source": [
        "**Asking the question to the model**"
      ],
      "metadata": {
        "id": "SU012Jn973Wv"
      },
      "id": "SU012Jn973Wv"
    },
    {
      "cell_type": "code",
      "execution_count": null,
      "id": "8626f0ad-ccdc-443e-9244-75073f304fdd",
      "metadata": {
        "id": "8626f0ad-ccdc-443e-9244-75073f304fdd",
        "outputId": "0928e77f-52f8-42ff-b782-516668aad293"
      },
      "outputs": [
        {
          "data": {
            "text/plain": [
              "'বাংলাদেশ এশিয়ার দেশ, ভৌগোলিক অবস্থান হিসেবে মূলত ভারত উপমহাদেশের একটি অংশ, যা ১৯৭১ সালে পাকিস্তান থেকে স্বাধীনতা লাভ করে।'"
            ]
          },
          "execution_count": 16,
          "metadata": {},
          "output_type": "execute_result"
        }
      ],
      "source": [
        "print(chain.invoke({\"user_input\":\"বাংলাদেশ কি?\"}))"
      ]
    }
  ],
  "metadata": {
    "kernelspec": {
      "display_name": "Python 3 (ipykernel)",
      "language": "python",
      "name": "python3"
    },
    "language_info": {
      "codemirror_mode": {
        "name": "ipython",
        "version": 3
      },
      "file_extension": ".py",
      "mimetype": "text/x-python",
      "name": "python",
      "nbconvert_exporter": "python",
      "pygments_lexer": "ipython3",
      "version": "3.12.7"
    },
    "colab": {
      "provenance": []
    }
  },
  "nbformat": 4,
  "nbformat_minor": 5
}